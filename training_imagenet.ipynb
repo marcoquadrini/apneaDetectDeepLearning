{
  "cells": [
    {
      "cell_type": "markdown",
      "source": [
        "### 1. Dataset download and optimization"
      ],
      "metadata": {
        "id": "fE5-LXmt_44W"
      }
    },
    {
      "cell_type": "code",
      "execution_count": 1,
      "metadata": {
        "id": "6YDSLBm9V8sK",
        "colab": {
          "base_uri": "https://localhost:8080/"
        },
        "outputId": "b1d2a239-9dc8-4e1f-f35d-b5c437f69e9c"
      },
      "outputs": [
        {
          "output_type": "stream",
          "name": "stdout",
          "text": [
            "--2023-07-26 20:25:22--  https://docs.google.com/uc?export=download&confirm=t&id=15RkLfTQNknZPNOVRL60yDyht9sNdyUCP\n",
            "Resolving docs.google.com (docs.google.com)... 74.125.130.101, 74.125.130.139, 74.125.130.102, ...\n",
            "Connecting to docs.google.com (docs.google.com)|74.125.130.101|:443... connected.\n",
            "HTTP request sent, awaiting response... 303 See Other\n",
            "Location: https://doc-08-9k-docs.googleusercontent.com/docs/securesc/ha0ro937gcuc7l7deffksulhg5h7mbp1/pf1ii6jmqhgeihoapap2dqco5ug0m4dl/1690403100000/08588315227229181520/*/15RkLfTQNknZPNOVRL60yDyht9sNdyUCP?e=download&uuid=54bbf614-6fea-46e9-80a6-825275c90bba [following]\n",
            "Warning: wildcards not supported in HTTP.\n",
            "--2023-07-26 20:25:23--  https://doc-08-9k-docs.googleusercontent.com/docs/securesc/ha0ro937gcuc7l7deffksulhg5h7mbp1/pf1ii6jmqhgeihoapap2dqco5ug0m4dl/1690403100000/08588315227229181520/*/15RkLfTQNknZPNOVRL60yDyht9sNdyUCP?e=download&uuid=54bbf614-6fea-46e9-80a6-825275c90bba\n",
            "Resolving doc-08-9k-docs.googleusercontent.com (doc-08-9k-docs.googleusercontent.com)... 74.125.130.132, 2404:6800:4003:c01::84\n",
            "Connecting to doc-08-9k-docs.googleusercontent.com (doc-08-9k-docs.googleusercontent.com)|74.125.130.132|:443... connected.\n",
            "HTTP request sent, awaiting response... 200 OK\n",
            "Length: 573194550 (547M) [application/x-zip-compressed]\n",
            "Saving to: ‘positiveFinal.zip’\n",
            "\n",
            "positiveFinal.zip   100%[===================>] 546.64M  66.9MB/s    in 6.9s    \n",
            "\n",
            "2023-07-26 20:25:31 (79.1 MB/s) - ‘positiveFinal.zip’ saved [573194550/573194550]\n",
            "\n",
            "--2023-07-26 20:25:32--  https://docs.google.com/uc?export=download&confirm=t&id=1hdjnMDhlDK8gCaRLM6bDxs2Uz6Q-A4Mn\n",
            "Resolving docs.google.com (docs.google.com)... 74.125.130.101, 74.125.130.139, 74.125.130.102, ...\n",
            "Connecting to docs.google.com (docs.google.com)|74.125.130.101|:443... connected.\n",
            "HTTP request sent, awaiting response... 303 See Other\n",
            "Location: https://doc-10-9k-docs.googleusercontent.com/docs/securesc/ha0ro937gcuc7l7deffksulhg5h7mbp1/6b1ie2uu9eh8i0speipdso3pqmbgbmm8/1690403100000/08588315227229181520/*/1hdjnMDhlDK8gCaRLM6bDxs2Uz6Q-A4Mn?e=download&uuid=bf26a770-7f6a-424d-9cb2-9101d46cded0 [following]\n",
            "Warning: wildcards not supported in HTTP.\n",
            "--2023-07-26 20:25:33--  https://doc-10-9k-docs.googleusercontent.com/docs/securesc/ha0ro937gcuc7l7deffksulhg5h7mbp1/6b1ie2uu9eh8i0speipdso3pqmbgbmm8/1690403100000/08588315227229181520/*/1hdjnMDhlDK8gCaRLM6bDxs2Uz6Q-A4Mn?e=download&uuid=bf26a770-7f6a-424d-9cb2-9101d46cded0\n",
            "Resolving doc-10-9k-docs.googleusercontent.com (doc-10-9k-docs.googleusercontent.com)... 74.125.130.132, 2404:6800:4003:c01::84\n",
            "Connecting to doc-10-9k-docs.googleusercontent.com (doc-10-9k-docs.googleusercontent.com)|74.125.130.132|:443... connected.\n",
            "HTTP request sent, awaiting response... 200 OK\n",
            "Length: 642067827 (612M) [application/x-zip-compressed]\n",
            "Saving to: ‘negativeFinal.zip’\n",
            "\n",
            "negativeFinal.zip   100%[===================>] 612.32M  73.8MB/s    in 11s     \n",
            "\n",
            "2023-07-26 20:25:45 (57.7 MB/s) - ‘negativeFinal.zip’ saved [642067827/642067827]\n",
            "\n",
            "Optimizes negatives: 2964\n",
            "Optimized positives: 2708\n"
          ]
        }
      ],
      "source": [
        "import os\n",
        "import shutil\n",
        "import numpy as np\n",
        "from PIL import Image\n",
        "\n",
        "if not os.path.isdir('dataset-splitted'):\n",
        "\n",
        "  #Download dataset from google drive\n",
        "\n",
        "  #Positive\n",
        "  !wget --load-cookies /tmp/cookies.txt \"https://docs.google.com/uc?export=download&confirm=$(wget --quiet --save-cookies /tmp/cookies.txt --keep-session-cookies --no-check-certificate 'https://docs.google.com/uc?export=download&id=15RkLfTQNknZPNOVRL60yDyht9sNdyUCP' -O- | sed -rn 's/.*confirm=([0-9A-Za-z_]+).*/\\1\\n/p')&id=15RkLfTQNknZPNOVRL60yDyht9sNdyUCP\" -O positiveFinal.zip && rm -rf /tmp/cookies.txt\n",
        "  #Negative\n",
        "  !wget --load-cookies /tmp/cookies.txt \"https://docs.google.com/uc?export=download&confirm=$(wget --quiet --save-cookies /tmp/cookies.txt --keep-session-cookies --no-check-certificate 'https://docs.google.com/uc?export=download&id=1hdjnMDhlDK8gCaRLM6bDxs2Uz6Q-A4Mn' -O- | sed -rn 's/.*confirm=([0-9A-Za-z_]+).*/\\1\\n/p')&id=1hdjnMDhlDK8gCaRLM6bDxs2Uz6Q-A4Mn\" -O negativeFinal.zip && rm -rf /tmp/cookies.txt\n",
        "\n",
        "  #Prepare unzip and prepare dataset folder\n",
        "\n",
        "  folder_path = r'datasetLarge'\n",
        "  positive_zip = \"positiveFinal.zip\"\n",
        "  negative_zip = \"negativeFinal.zip\"\n",
        "  positive = \"positive\"\n",
        "  negative = \"negative\"\n",
        "  if not os.path.exists(folder_path):\n",
        "      os.makedirs(folder_path)\n",
        "\n",
        "  shutil.unpack_archive(positive_zip, folder_path)\n",
        "  shutil.unpack_archive(negative_zip, folder_path)\n",
        "\n",
        "  os.remove(positive_zip)\n",
        "  os.remove(negative_zip)\n",
        "  os.rename(folder_path+'/positiveFinal',folder_path+'/'+positive)\n",
        "  os.rename(folder_path+'/negativeFinal',folder_path+'/'+negative)\n",
        "\n",
        "  def optimize_positive(folder_path, threshold=0.8, central_ratio=0.5):\n",
        "      count = 0\n",
        "      color_rgba = [0, 0, 4, 255]  # Color to check\n",
        "\n",
        "      for filename in os.listdir(folder_path):\n",
        "          if filename.lower().endswith(('.jpg', '.jpeg', '.png')):\n",
        "              file_path = os.path.join(folder_path, filename)\n",
        "              try:\n",
        "                  image = Image.open(file_path)\n",
        "                  mode = image.mode\n",
        "                  width, height = 312,312\n",
        "                  # Calculate the region of interest\n",
        "                  central_width = int(width * central_ratio)\n",
        "                  central_height = int(height * central_ratio)\n",
        "                  left = (width - central_width) // 2\n",
        "                  top = (height - central_height) // 2\n",
        "                  right = left + central_width\n",
        "                  bottom = top + central_height\n",
        "                  # Crop the image to the central region\n",
        "                  cropped_image = image.crop((left, top, right, bottom))\n",
        "                  np_image = np.array(cropped_image)\n",
        "                  color_pixels = np.sum(np.all(np_image == color_rgba, axis=-1))\n",
        "                  total_pixels = central_width * central_height\n",
        "                  color_ratio = color_pixels / total_pixels\n",
        "                  if color_ratio <= threshold:\n",
        "                      os.remove(file_path)\n",
        "                      count = count+1\n",
        "              except (IOError, OSError):\n",
        "                  print(f\"Failed to open image: {file_path}\")\n",
        "      return count\n",
        "\n",
        "  def optimize_negative(folder_path, threshold=0.9, central_ratio=0.5):\n",
        "      count = 0\n",
        "      color_rgba = [0, 0, 4, 255]  # Color to check\n",
        "\n",
        "      for filename in os.listdir(folder_path):\n",
        "          if filename.lower().endswith(('.jpg', '.jpeg', '.png')):\n",
        "              file_path = os.path.join(folder_path, filename)\n",
        "              try:\n",
        "                  image = Image.open(file_path)\n",
        "                  mode = image.mode\n",
        "                  width, height = 312,312\n",
        "                  # Calculate the region of interest\n",
        "                  central_width = int(width * central_ratio)\n",
        "                  central_height = int(height * central_ratio)\n",
        "                  left = (width - central_width) // 2\n",
        "                  top = (height - central_height) // 2\n",
        "                  right = left + central_width\n",
        "                  bottom = top + central_height\n",
        "                  # Crop the image to the central region\n",
        "                  cropped_image = image.crop((left, top, right, bottom))\n",
        "                  np_image = np.array(cropped_image)\n",
        "                  color_pixels = np.sum(np.all(np_image == color_rgba, axis=-1))\n",
        "\n",
        "                  total_pixels = central_width * central_height\n",
        "\n",
        "                  color_ratio = color_pixels / total_pixels\n",
        "                  if color_ratio >= threshold:\n",
        "                      os.remove(file_path)\n",
        "                      count = count+1\n",
        "              except (IOError, OSError):\n",
        "                  print(f\"Failed to open image: {file_path}\")\n",
        "      return count\n",
        "\n",
        "\n",
        "  print(\"Optimizes negatives: \"+ str(optimize_negative(folder_path+'/'+negative)))\n",
        "  print(\"Optimized positives: \"+ str(optimize_positive(folder_path+'/'+positive)))"
      ]
    },
    {
      "cell_type": "markdown",
      "source": [
        "### 2. Imports and requirements"
      ],
      "metadata": {
        "id": "aWXIipPXAI2x"
      }
    },
    {
      "cell_type": "code",
      "execution_count": 2,
      "metadata": {
        "id": "0OVdFWMyIeW9"
      },
      "outputs": [],
      "source": [
        "import tensorflow as tf\n",
        "from tensorflow import keras\n",
        "import numpy as np\n",
        "from tensorflow.keras import layers\n",
        "from tensorflow.keras import models\n",
        "from tensorflow.keras import optimizers\n",
        "from tensorflow.keras.regularizers import l2\n",
        "from keras.models import Model\n",
        "import matplotlib.pyplot as plt\n",
        "import pandas as pd\n",
        "import os\n",
        "import wave\n",
        "import pylab\n",
        "from pathlib import Path\n",
        "from scipy import signal\n",
        "from scipy.io import wavfile\n",
        "from sklearn.metrics import confusion_matrix\n",
        "import itertools\n",
        "from tensorflow.keras.applications import VGG19"
      ]
    },
    {
      "cell_type": "code",
      "execution_count": 3,
      "metadata": {
        "id": "TTlNjUscMXNW",
        "colab": {
          "base_uri": "https://localhost:8080/"
        },
        "outputId": "c689b915-860b-441d-92fd-4c89c6ec2130"
      },
      "outputs": [
        {
          "output_type": "stream",
          "name": "stdout",
          "text": [
            "Collecting split-folders\n",
            "  Downloading split_folders-0.5.1-py3-none-any.whl (8.4 kB)\n",
            "Installing collected packages: split-folders\n",
            "Successfully installed split-folders-0.5.1\n"
          ]
        }
      ],
      "source": [
        "!pip install split-folders"
      ]
    },
    {
      "cell_type": "code",
      "execution_count": 4,
      "metadata": {
        "id": "tl_Se8bX7u25",
        "colab": {
          "base_uri": "https://localhost:8080/"
        },
        "outputId": "4a204953-48c7-4fa6-e7c7-3f375798ddb7"
      },
      "outputs": [
        {
          "output_type": "stream",
          "name": "stdout",
          "text": [
            "['positive', 'negative']\n"
          ]
        },
        {
          "output_type": "stream",
          "name": "stderr",
          "text": [
            "Copying files: 18932 files [00:03, 5066.38 files/s]\n"
          ]
        }
      ],
      "source": [
        "import splitfolders\n",
        "import os\n",
        "path = \"datasetLarge\"\n",
        "print(os.listdir(path))\n",
        "\n",
        "splitfolders.ratio(path,seed=1337, output=\"dataset-splitted\", ratio=(0.6,0.2,0.2))"
      ]
    },
    {
      "cell_type": "code",
      "execution_count": 5,
      "metadata": {
        "id": "OcUTMYDu8Kd3"
      },
      "outputs": [],
      "source": [
        "OUTPUT_DIR = ''\n",
        "IMAGE_HEIGHT = 150\n",
        "IMAGE_WIDTH = 150\n",
        "BATCH_SIZE = 32\n",
        "N_CHANNELS = 3\n",
        "N_CLASSES = 10"
      ]
    },
    {
      "cell_type": "markdown",
      "source": [
        "### 3. Dataset split and preparation"
      ],
      "metadata": {
        "id": "YHsysR6kB06Q"
      }
    },
    {
      "cell_type": "code",
      "execution_count": 6,
      "metadata": {
        "id": "dhvkIhOg7wlk",
        "colab": {
          "base_uri": "https://localhost:8080/"
        },
        "outputId": "12aa386c-4478-4198-8431-ea94cb4c7fb8"
      },
      "outputs": [
        {
          "output_type": "stream",
          "name": "stdout",
          "text": [
            "Found 11358 files belonging to 2 classes.\n",
            "Found 3785 files belonging to 2 classes.\n",
            "Found 3789 files belonging to 2 classes.\n"
          ]
        }
      ],
      "source": [
        "from tensorflow.keras.utils import image_dataset_from_directory\n",
        "dir=\"dataset-splitted\"\n",
        "train_dataset = image_dataset_from_directory(\n",
        "    directory= dir+\"/train\",\n",
        "    image_size=(IMAGE_WIDTH, IMAGE_HEIGHT),\n",
        "    batch_size=BATCH_SIZE,\n",
        "     color_mode='rgb')\n",
        "validation_dataset = image_dataset_from_directory(\n",
        "    directory= dir+ \"/val\",\n",
        "    image_size=(IMAGE_WIDTH, IMAGE_HEIGHT),\n",
        "     color_mode='rgb',\n",
        "    batch_size=BATCH_SIZE)\n",
        "test_dataset = image_dataset_from_directory(\n",
        "    directory=  dir+\"/test\",\n",
        "    image_size=(IMAGE_WIDTH, IMAGE_HEIGHT),\n",
        "     color_mode='rgb',\n",
        "    batch_size=BATCH_SIZE)"
      ]
    },
    {
      "cell_type": "code",
      "execution_count": 7,
      "metadata": {
        "id": "sFtwkiTtIeXA"
      },
      "outputs": [],
      "source": [
        "# Prepare datasets for modelling\n",
        "def prepare(ds, augment=False):\n",
        "    # Define transformation\n",
        "    rescale = tf.keras.Sequential([tf.keras.layers.experimental.preprocessing.Rescaling(1./255)])\n",
        "    flip_and_rotate = tf.keras.Sequential([\n",
        "        tf.keras.layers.experimental.preprocessing.RandomFlip(\"horizontal_and_vertical\"),\n",
        "        tf.keras.layers.experimental.preprocessing.RandomRotation(0.2)\n",
        "    ])\n",
        "\n",
        "    # Apply rescale to the datasets\n",
        "    ds = ds.map(lambda x, y: (rescale(x, training=True), y))\n",
        "    if augment: ds = ds.map(lambda x, y: (flip_and_rotate(x, training=True), y))\n",
        "    return ds\n",
        "\n",
        "train_dataset = prepare(train_dataset, augment=False)\n",
        "valid_dataset = prepare(validation_dataset, augment=False)\n",
        "test_dataset = prepare(test_dataset, augment=False)"
      ]
    },
    {
      "cell_type": "markdown",
      "source": [
        "### 4. Network creation and training"
      ],
      "metadata": {
        "id": "gXLim5ahB-18"
      }
    },
    {
      "cell_type": "code",
      "execution_count": 8,
      "metadata": {
        "id": "WVlnpeAGIeXB",
        "colab": {
          "base_uri": "https://localhost:8080/"
        },
        "outputId": "f955d187-0c0f-408a-dc21-f3b32226f0d1"
      },
      "outputs": [
        {
          "output_type": "stream",
          "name": "stdout",
          "text": [
            "Downloading data from https://storage.googleapis.com/tensorflow/keras-applications/vgg19/vgg19_weights_tf_dim_ordering_tf_kernels_notop.h5\n",
            "80134624/80134624 [==============================] - 5s 0us/step\n",
            "Epoch 1/100\n",
            "355/355 [==============================] - 52s 113ms/step - loss: 0.2190 - accuracy: 0.9085 - val_loss: 0.1475 - val_accuracy: 0.9403\n",
            "Epoch 2/100\n",
            "355/355 [==============================] - 39s 107ms/step - loss: 0.1238 - accuracy: 0.9554 - val_loss: 0.1898 - val_accuracy: 0.9192\n",
            "Epoch 3/100\n",
            "355/355 [==============================] - 40s 112ms/step - loss: 0.1189 - accuracy: 0.9541 - val_loss: 0.1468 - val_accuracy: 0.9413\n",
            "Epoch 4/100\n",
            "355/355 [==============================] - 40s 110ms/step - loss: 0.1061 - accuracy: 0.9589 - val_loss: 0.1094 - val_accuracy: 0.9564\n",
            "Epoch 5/100\n",
            "355/355 [==============================] - 40s 111ms/step - loss: 0.0924 - accuracy: 0.9645 - val_loss: 0.1113 - val_accuracy: 0.9556\n",
            "Epoch 6/100\n",
            "355/355 [==============================] - 40s 111ms/step - loss: 0.0979 - accuracy: 0.9611 - val_loss: 0.1122 - val_accuracy: 0.9554\n",
            "Epoch 7/100\n",
            "355/355 [==============================] - 40s 110ms/step - loss: 0.0741 - accuracy: 0.9727 - val_loss: 0.1044 - val_accuracy: 0.9564\n",
            "Epoch 8/100\n",
            "355/355 [==============================] - 40s 111ms/step - loss: 0.0887 - accuracy: 0.9658 - val_loss: 0.1466 - val_accuracy: 0.9453\n",
            "Epoch 9/100\n",
            "355/355 [==============================] - 40s 110ms/step - loss: 0.0764 - accuracy: 0.9704 - val_loss: 0.1498 - val_accuracy: 0.9461\n"
          ]
        }
      ],
      "source": [
        "from tensorflow.keras.applications import VGG19\n",
        "from keras.datasets import mnist\n",
        "from keras.models import Sequential\n",
        "from keras.layers import Dense, Dropout, Conv2D, MaxPool2D, Flatten\n",
        "from keras.utils import np_utils\n",
        "\n",
        "conv_base= VGG19(weights=\"imagenet\",include_top=False,input_shape=(IMAGE_WIDTH,IMAGE_HEIGHT,3))\n",
        "conv_base.trainable=False\n",
        "\n",
        "model = Sequential()\n",
        "model.add(conv_base)\n",
        "model.add(layers.Flatten())\n",
        "model.add(layers.Dense(256,activation='relu'))\n",
        "model.add(layers.Dense(2,activation='sigmoid'))\n",
        "\n",
        "model.compile(\n",
        "    loss='sparse_categorical_crossentropy',\n",
        "    optimizer=optimizers.Adam(learning_rate=2e-4),\n",
        "    metrics=['accuracy']\n",
        ")\n",
        "\n",
        "# Implement early stopping\n",
        "early_stopping = tf.keras.callbacks.EarlyStopping(\n",
        "    monitor='val_accuracy',\n",
        "    patience=5,\n",
        "    restore_best_weights=True\n",
        ")\n",
        "\n",
        "history = model.fit(train_dataset, epochs=100, batch_size=32,validation_data=valid_dataset,callbacks=[early_stopping])"
      ]
    },
    {
      "cell_type": "markdown",
      "source": [
        "### 5. Loss and accuracy curves"
      ],
      "metadata": {
        "id": "uefuwkITCFP-"
      }
    },
    {
      "cell_type": "code",
      "execution_count": 9,
      "metadata": {
        "id": "_yuEVhbFIeXB",
        "colab": {
          "base_uri": "https://localhost:8080/",
          "height": 564
        },
        "outputId": "f7181827-9daa-4ebb-be24-236164d8398d"
      },
      "outputs": [
        {
          "output_type": "display_data",
          "data": {
            "text/plain": [
              "<Figure size 800x600 with 1 Axes>"
            ],
            "image/png": "[encoded data removed]"
          },
          "metadata": {}
        }
      ],
      "source": [
        "# Plot the loss curves for training and validation.\n",
        "history_dict = history.history\n",
        "loss_values = history_dict['loss']\n",
        "val_loss_values = history_dict['val_loss']\n",
        "epochs = range(1, len(loss_values)+1)\n",
        "\n",
        "fig = plt.figure(figsize=(8,6))\n",
        "plt.plot(epochs, loss_values, 'orange', label='Training loss')\n",
        "plt.plot(epochs, val_loss_values, 'b', label='Validation loss')\n",
        "plt.title('Training and validation loss')\n",
        "plt.xlabel('Epochs')\n",
        "plt.ylabel('Loss')\n",
        "plt.legend()\n",
        "plt.show()\n",
        "fig.savefig('loss.png', dpi=fig.dpi)"
      ]
    },
    {
      "cell_type": "code",
      "execution_count": 10,
      "metadata": {
        "id": "TH7KTjK0IeXC",
        "colab": {
          "base_uri": "https://localhost:8080/",
          "height": 564
        },
        "outputId": "652701f9-5b76-4cc8-fd14-13e08ed5a79f"
      },
      "outputs": [
        {
          "output_type": "display_data",
          "data": {
            "text/plain": [
              "<Figure size 800x600 with 1 Axes>"
            ],
            "image/png": "[encoded data removed]"
          },
          "metadata": {}
        }
      ],
      "source": [
        "# Plot the accuracy curves for training and validation.\n",
        "acc_values = history_dict['accuracy']\n",
        "val_acc_values = history_dict['val_accuracy']\n",
        "\n",
        "epochs = range(1, len(acc_values)+1)\n",
        "\n",
        "fig = plt.figure(figsize=(8,6))\n",
        "plt.plot(epochs, acc_values, 'orange', label='Training accuracy')\n",
        "plt.plot(epochs, val_acc_values, 'b', label='Validation accuracy')\n",
        "plt.title('Training and validation accuracy')\n",
        "plt.xlabel('Epochs')\n",
        "plt.ylabel('Accuracy')\n",
        "plt.ylim(0, 1)\n",
        "plt.legend()\n",
        "plt.show()\n",
        "fig.savefig('accuracy.png', dpi=fig.dpi)"
      ]
    },
    {
      "cell_type": "markdown",
      "source": [
        "### 6. Model test and evaluation"
      ],
      "metadata": {
        "id": "axyYXTzJCNsw"
      }
    },
    {
      "cell_type": "code",
      "execution_count": 11,
      "metadata": {
        "id": "2rGc_v5GIeXC",
        "colab": {
          "base_uri": "https://localhost:8080/"
        },
        "outputId": "301f4bc5-6b32-4173-b16d-c57ef6d66143"
      },
      "outputs": [
        {
          "output_type": "stream",
          "name": "stdout",
          "text": [
            "EVALUATION Final loss: 0.106829, final accuracy: 0.963843\n",
            "PRECISION: 0.964637\n",
            "RECALL: 0.967965\n",
            "F1 SCORE: 0.966298\n",
            "ROC AUC: 0.963528\n",
            "Average precision score: 0.950889\n"
          ]
        }
      ],
      "source": [
        "# Compute the final loss and accuracy\n",
        "result = model.evaluate(test_dataset, verbose=0)\n",
        "print(\"EVALUATION Final loss: {0:.6f}, final accuracy: {1:.6f}\".format(result[0], result[1]))\n",
        "\n",
        "import tensorflow as tf\n",
        "from sklearn.metrics import accuracy_score, precision_score, recall_score, f1_score, roc_auc_score, average_precision_score\n",
        "\n",
        "\n",
        "# Predict probabilities using the model\n",
        "predictions = []\n",
        "true_labels = []\n",
        "\n",
        "for images, labels in test_dataset:\n",
        "    predictions_batch = model.predict(images, verbose = 0)\n",
        "    predictions.extend(predictions_batch)\n",
        "    true_labels.extend(labels.numpy())\n",
        "\n",
        "predictions = np.array(predictions)\n",
        "true_labels = np.array(true_labels)\n",
        "\n",
        "# Compute the final loss using the true labels and predicted probabilities\n",
        "final_loss = np.mean(\n",
        "    tf.keras.losses.sparse_categorical_crossentropy(true_labels, predictions).numpy()\n",
        ")\n",
        "\n",
        "# Calculate accuracy by comparing predicted labels with true labels\n",
        "predicted_labels = np.argmax(predictions, axis=1)\n",
        "accuracy = np.mean(predicted_labels == true_labels)\n",
        "\n",
        "final_precision_score = precision_score(true_labels,predicted_labels)\n",
        "print(\"PRECISION: {0:.6f}\".format(final_precision_score))\n",
        "final_recall = recall_score(true_labels,predicted_labels)\n",
        "print(\"RECALL: {0:.6f}\".format(final_recall))\n",
        "final_f1_score = f1_score(true_labels,predicted_labels)\n",
        "print(\"F1 SCORE: {0:.6f}\".format(final_f1_score))\n",
        "final_roc_auc_score = roc_auc_score(true_labels,predicted_labels)\n",
        "print(\"ROC AUC: {0:.6f}\".format(final_roc_auc_score))\n",
        "final_avg_prec_score = average_precision_score(true_labels,predicted_labels)\n",
        "print(\"Average precision score: {0:.6f}\".format(final_avg_prec_score))"
      ]
    },
    {
      "cell_type": "code",
      "execution_count": null,
      "metadata": {
        "colab": {
          "base_uri": "https://localhost:8080/",
          "height": 73
        },
        "id": "9ymSo0Q3PrKN",
        "outputId": "17b0c5a3-0b18-4a1a-bfa6-3646f6f045d6"
      },
      "outputs": [
        {
          "output_type": "stream",
          "name": "stderr",
          "text": [
            "WARNING:absl:Found untraced functions such as _jit_compiled_convolution_op, _jit_compiled_convolution_op, _jit_compiled_convolution_op, _jit_compiled_convolution_op, _jit_compiled_convolution_op while saving (showing 5 of 16). These functions will not be directly callable after loading.\n"
          ]
        },
        {
          "output_type": "execute_result",
          "data": {
            "text/plain": [
              "'/content/model150Imagenet.zip'"
            ],
            "application/vnd.google.colaboratory.intrinsic+json": {
              "type": "string"
            }
          },
          "metadata": {},
          "execution_count": 14
        }
      ],
      "source": [
        "# save maodel\n",
        "model.save(\"model150Imagenet/\")\n",
        "import shutil\n",
        "shutil.make_archive('model150Imagenet','zip',\n",
        "                    '',\n",
        "                    'model150Imagenet')"
      ]
    },
    {
      "cell_type": "markdown",
      "source": [
        "### Accuracy by class"
      ],
      "metadata": {
        "id": "ENPQCwjJsKwx"
      }
    },
    {
      "cell_type": "code",
      "execution_count": 12,
      "metadata": {
        "colab": {
          "base_uri": "https://localhost:8080/"
        },
        "id": "JUCn9VdUCJyF",
        "outputId": "e48732d0-d45a-4ccf-a878-18fa6f81b4dd"
      },
      "outputs": [
        {
          "output_type": "stream",
          "name": "stdout",
          "text": [
            "Positive Label Accuracy: 0.9679645145391819\n",
            "Negative Label Accuracy: 0.9590909090909091\n",
            "Overall Accuracy: 0.9638427025600422\n"
          ]
        }
      ],
      "source": [
        "positive_labels = true_labels == 1\n",
        "negative_labels = true_labels == 0\n",
        "\n",
        "positive_predictions = predictions[positive_labels]\n",
        "positive_true_labels = true_labels[positive_labels]\n",
        "positive_predicted_labels = np.argmax(positive_predictions, axis=1)\n",
        "positive_accuracy = np.mean(positive_predicted_labels == positive_true_labels)\n",
        "\n",
        "\n",
        "negative_predictions = predictions[negative_labels]\n",
        "negative_true_labels = true_labels[negative_labels]\n",
        "negative_predicted_labels = np.argmax(negative_predictions, axis=1)\n",
        "negative_accuracy = np.mean(negative_predicted_labels == negative_true_labels)\n",
        "\n",
        "overall_accuracy = np.mean(predicted_labels == true_labels)\n",
        "\n",
        "print(\"Positive Label Accuracy:\", positive_accuracy)\n",
        "print(\"Negative Label Accuracy:\", negative_accuracy)\n",
        "print(\"Overall Accuracy:\", overall_accuracy)"
      ]
    }
  ],
  "metadata": {
    "accelerator": "GPU",
    "colab": {
      "machine_shape": "hm",
      "provenance": [],
      "gpuType": "T4"
    },
    "kernelspec": {
      "display_name": "Python 3",
      "name": "python3"
    },
    "language_info": {
      "codemirror_mode": {
        "name": "ipython",
        "version": 3
      },
      "file_extension": ".py",
      "mimetype": "text/x-python",
      "name": "python",
      "nbconvert_exporter": "python",
      "pygments_lexer": "ipython3",
      "version": "3.7.16"
    }
  },
  "nbformat": 4,
  "nbformat_minor": 0
}