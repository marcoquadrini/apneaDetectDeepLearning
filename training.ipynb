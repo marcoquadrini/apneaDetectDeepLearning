{
  "cells": [
    {
      "cell_type": "markdown",
      "source": [
        "### 1. Dataset download and optimization"
      ],
      "metadata": {
        "id": "fE5-LXmt_44W"
      }
    },
    {
      "cell_type": "code",
      "execution_count": 1,
      "metadata": {
        "id": "6YDSLBm9V8sK",
        "colab": {
          "base_uri": "https://localhost:8080/"
        },
        "outputId": "9b4031a3-85df-4d2e-89df-ed6dba82a8f8"
      },
      "outputs": [
        {
          "output_type": "stream",
          "name": "stdout",
          "text": [
            "--2023-07-24 20:54:15--  https://docs.google.com/uc?export=download&confirm=t&id=15RkLfTQNknZPNOVRL60yDyht9sNdyUCP\n",
            "Resolving docs.google.com (docs.google.com)... 142.250.145.100, 142.250.145.138, 142.250.145.139, ...\n",
            "Connecting to docs.google.com (docs.google.com)|142.250.145.100|:443... connected.\n",
            "HTTP request sent, awaiting response... 303 See Other\n",
            "Location: https://doc-08-9k-docs.googleusercontent.com/docs/securesc/ha0ro937gcuc7l7deffksulhg5h7mbp1/18p70imu4qrq36c4butgndeuu50efibd/1690232025000/08588315227229181520/*/15RkLfTQNknZPNOVRL60yDyht9sNdyUCP?e=download&uuid=2fb4c139-91cb-4416-92cd-3cef325725ac [following]\n",
            "Warning: wildcards not supported in HTTP.\n",
            "--2023-07-24 20:54:15--  https://doc-08-9k-docs.googleusercontent.com/docs/securesc/ha0ro937gcuc7l7deffksulhg5h7mbp1/18p70imu4qrq36c4butgndeuu50efibd/1690232025000/08588315227229181520/*/15RkLfTQNknZPNOVRL60yDyht9sNdyUCP?e=download&uuid=2fb4c139-91cb-4416-92cd-3cef325725ac\n",
            "Resolving doc-08-9k-docs.googleusercontent.com (doc-08-9k-docs.googleusercontent.com)... 108.177.126.132, 2a00:1450:4013:c01::84\n",
            "Connecting to doc-08-9k-docs.googleusercontent.com (doc-08-9k-docs.googleusercontent.com)|108.177.126.132|:443... connected.\n",
            "HTTP request sent, awaiting response... 200 OK\n",
            "Length: 573194550 (547M) [application/x-zip-compressed]\n",
            "Saving to: ‘positiveFinal.zip’\n",
            "\n",
            "positiveFinal.zip   100%[===================>] 546.64M   218MB/s    in 2.5s    \n",
            "\n",
            "2023-07-24 20:54:18 (218 MB/s) - ‘positiveFinal.zip’ saved [573194550/573194550]\n",
            "\n",
            "--2023-07-24 20:54:18--  https://docs.google.com/uc?export=download&confirm=t&id=1hdjnMDhlDK8gCaRLM6bDxs2Uz6Q-A4Mn\n",
            "Resolving docs.google.com (docs.google.com)... 142.250.145.100, 142.250.145.138, 142.250.145.139, ...\n",
            "Connecting to docs.google.com (docs.google.com)|142.250.145.100|:443... connected.\n",
            "HTTP request sent, awaiting response... 303 See Other\n",
            "Location: https://doc-10-9k-docs.googleusercontent.com/docs/securesc/ha0ro937gcuc7l7deffksulhg5h7mbp1/na9obt83255t41ru66un31m943qnvijh/1690232025000/08588315227229181520/*/1hdjnMDhlDK8gCaRLM6bDxs2Uz6Q-A4Mn?e=download&uuid=8ff0df6a-2533-4b7f-affa-e67f07e6202d [following]\n",
            "Warning: wildcards not supported in HTTP.\n",
            "--2023-07-24 20:54:19--  https://doc-10-9k-docs.googleusercontent.com/docs/securesc/ha0ro937gcuc7l7deffksulhg5h7mbp1/na9obt83255t41ru66un31m943qnvijh/1690232025000/08588315227229181520/*/1hdjnMDhlDK8gCaRLM6bDxs2Uz6Q-A4Mn?e=download&uuid=8ff0df6a-2533-4b7f-affa-e67f07e6202d\n",
            "Resolving doc-10-9k-docs.googleusercontent.com (doc-10-9k-docs.googleusercontent.com)... 108.177.126.132, 2a00:1450:4013:c01::84\n",
            "Connecting to doc-10-9k-docs.googleusercontent.com (doc-10-9k-docs.googleusercontent.com)|108.177.126.132|:443... connected.\n",
            "HTTP request sent, awaiting response... 200 OK\n",
            "Length: 642067827 (612M) [application/x-zip-compressed]\n",
            "Saving to: ‘negativeFinal.zip’\n",
            "\n",
            "negativeFinal.zip   100%[===================>] 612.32M   244MB/s    in 2.5s    \n",
            "\n",
            "2023-07-24 20:54:22 (244 MB/s) - ‘negativeFinal.zip’ saved [642067827/642067827]\n",
            "\n",
            "Optimizes negatives: 2964\n",
            "Optimized positives: 2708\n"
          ]
        }
      ],
      "source": [
        "import os\n",
        "import shutil\n",
        "import numpy as np\n",
        "from PIL import Image\n",
        "\n",
        "if not os.path.isdir('dataset-splitted'):\n",
        "\n",
        "  #Download dataset from google drive\n",
        "\n",
        "  #Positive\n",
        "  !wget --load-cookies /tmp/cookies.txt \"https://docs.google.com/uc?export=download&confirm=$(wget --quiet --save-cookies /tmp/cookies.txt --keep-session-cookies --no-check-certificate 'https://docs.google.com/uc?export=download&id=15RkLfTQNknZPNOVRL60yDyht9sNdyUCP' -O- | sed -rn 's/.*confirm=([0-9A-Za-z_]+).*/\\1\\n/p')&id=15RkLfTQNknZPNOVRL60yDyht9sNdyUCP\" -O positiveFinal.zip && rm -rf /tmp/cookies.txt\n",
        "  #Negative\n",
        "  !wget --load-cookies /tmp/cookies.txt \"https://docs.google.com/uc?export=download&confirm=$(wget --quiet --save-cookies /tmp/cookies.txt --keep-session-cookies --no-check-certificate 'https://docs.google.com/uc?export=download&id=1hdjnMDhlDK8gCaRLM6bDxs2Uz6Q-A4Mn' -O- | sed -rn 's/.*confirm=([0-9A-Za-z_]+).*/\\1\\n/p')&id=1hdjnMDhlDK8gCaRLM6bDxs2Uz6Q-A4Mn\" -O negativeFinal.zip && rm -rf /tmp/cookies.txt\n",
        "\n",
        "  #Prepare unzip and prepare dataset folder\n",
        "\n",
        "  folder_path = r'datasetLarge'\n",
        "  positive_zip = \"positiveFinal.zip\"\n",
        "  negative_zip = \"negativeFinal.zip\"\n",
        "  positive = \"positive\"\n",
        "  negative = \"negative\"\n",
        "  if not os.path.exists(folder_path):\n",
        "      os.makedirs(folder_path)\n",
        "\n",
        "  shutil.unpack_archive(positive_zip, folder_path)\n",
        "  shutil.unpack_archive(negative_zip, folder_path)\n",
        "\n",
        "  os.remove(positive_zip)\n",
        "  os.remove(negative_zip)\n",
        "  os.rename(folder_path+'/positiveFinal',folder_path+'/'+positive)\n",
        "  os.rename(folder_path+'/negativeFinal',folder_path+'/'+negative)\n",
        "\n",
        "  def optimize_positive(folder_path, threshold=0.8, central_ratio=0.5):\n",
        "      count = 0\n",
        "      color_rgba = [0, 0, 4, 255]  # Color to check\n",
        "\n",
        "      for filename in os.listdir(folder_path):\n",
        "          if filename.lower().endswith(('.jpg', '.jpeg', '.png')):\n",
        "              file_path = os.path.join(folder_path, filename)\n",
        "              try:\n",
        "                  image = Image.open(file_path)\n",
        "                  mode = image.mode\n",
        "                  width, height = 312,312\n",
        "                  # Calculate the region of interest\n",
        "                  central_width = int(width * central_ratio)\n",
        "                  central_height = int(height * central_ratio)\n",
        "                  left = (width - central_width) // 2\n",
        "                  top = (height - central_height) // 2\n",
        "                  right = left + central_width\n",
        "                  bottom = top + central_height\n",
        "                  # Crop the image to the central region\n",
        "                  cropped_image = image.crop((left, top, right, bottom))\n",
        "                  np_image = np.array(cropped_image)\n",
        "                  color_pixels = np.sum(np.all(np_image == color_rgba, axis=-1))\n",
        "                  total_pixels = central_width * central_height\n",
        "                  color_ratio = color_pixels / total_pixels\n",
        "                  if color_ratio <= threshold:\n",
        "                      os.remove(file_path)\n",
        "                      count = count+1\n",
        "              except (IOError, OSError):\n",
        "                  print(f\"Failed to open image: {file_path}\")\n",
        "      return count\n",
        "\n",
        "  def optimize_negative(folder_path, threshold=0.9, central_ratio=0.5):\n",
        "      count = 0\n",
        "      color_rgba = [0, 0, 4, 255]  # Color to check\n",
        "\n",
        "      for filename in os.listdir(folder_path):\n",
        "          if filename.lower().endswith(('.jpg', '.jpeg', '.png')):\n",
        "              file_path = os.path.join(folder_path, filename)\n",
        "              try:\n",
        "                  image = Image.open(file_path)\n",
        "                  mode = image.mode\n",
        "                  width, height = 312,312\n",
        "                  # Calculate the region of interest\n",
        "                  central_width = int(width * central_ratio)\n",
        "                  central_height = int(height * central_ratio)\n",
        "                  left = (width - central_width) // 2\n",
        "                  top = (height - central_height) // 2\n",
        "                  right = left + central_width\n",
        "                  bottom = top + central_height\n",
        "                  # Crop the image to the central region\n",
        "                  cropped_image = image.crop((left, top, right, bottom))\n",
        "                  np_image = np.array(cropped_image)\n",
        "                  color_pixels = np.sum(np.all(np_image == color_rgba, axis=-1))\n",
        "\n",
        "                  total_pixels = central_width * central_height\n",
        "\n",
        "                  color_ratio = color_pixels / total_pixels\n",
        "                  if color_ratio >= threshold:\n",
        "                      os.remove(file_path)\n",
        "                      count = count+1\n",
        "              except (IOError, OSError):\n",
        "                  print(f\"Failed to open image: {file_path}\")\n",
        "      return count\n",
        "\n",
        "\n",
        "  print(\"Optimizes negatives: \"+ str(optimize_negative(folder_path+'/'+negative)))\n",
        "  print(\"Optimized positives: \"+ str(optimize_positive(folder_path+'/'+positive)))"
      ]
    },
    {
      "cell_type": "markdown",
      "source": [
        "### 2. Imports and requirements"
      ],
      "metadata": {
        "id": "aWXIipPXAI2x"
      }
    },
    {
      "cell_type": "code",
      "execution_count": 3,
      "metadata": {
        "id": "0OVdFWMyIeW9"
      },
      "outputs": [],
      "source": [
        "import tensorflow as tf\n",
        "from tensorflow import keras\n",
        "import numpy as np\n",
        "from tensorflow.keras import layers\n",
        "from tensorflow.keras import models\n",
        "from tensorflow.keras import optimizers\n",
        "from tensorflow.keras.regularizers import l2\n",
        "from keras.models import Model\n",
        "import matplotlib.pyplot as plt\n",
        "import pandas as pd\n",
        "import os\n",
        "import wave\n",
        "import pylab\n",
        "from pathlib import Path\n",
        "from scipy import signal\n",
        "from scipy.io import wavfile\n",
        "from sklearn.metrics import confusion_matrix\n",
        "import itertools\n",
        "from tensorflow.keras.applications import VGG19"
      ]
    },
    {
      "cell_type": "code",
      "execution_count": 4,
      "metadata": {
        "id": "TTlNjUscMXNW",
        "colab": {
          "base_uri": "https://localhost:8080/"
        },
        "outputId": "4c7ac41c-a4ea-4f07-8c57-529beaa35cd0"
      },
      "outputs": [
        {
          "output_type": "stream",
          "name": "stdout",
          "text": [
            "Collecting split-folders\n",
            "  Downloading split_folders-0.5.1-py3-none-any.whl (8.4 kB)\n",
            "Installing collected packages: split-folders\n",
            "Successfully installed split-folders-0.5.1\n"
          ]
        }
      ],
      "source": [
        "!pip install split-folders"
      ]
    },
    {
      "cell_type": "code",
      "execution_count": 5,
      "metadata": {
        "id": "tl_Se8bX7u25",
        "colab": {
          "base_uri": "https://localhost:8080/"
        },
        "outputId": "bdce7fdf-74c4-4239-ae60-9f2cf496b737"
      },
      "outputs": [
        {
          "output_type": "stream",
          "name": "stdout",
          "text": [
            "['positive', 'negative']\n"
          ]
        },
        {
          "output_type": "stream",
          "name": "stderr",
          "text": [
            "Copying files: 18932 files [00:03, 5681.58 files/s]\n"
          ]
        }
      ],
      "source": [
        "import splitfolders\n",
        "import os\n",
        "path = \"datasetLarge\"\n",
        "print(os.listdir(path))\n",
        "\n",
        "splitfolders.ratio(path,seed=1337, output=\"dataset-splitted\", ratio=(0.6,0.2,0.2))"
      ]
    },
    {
      "cell_type": "code",
      "execution_count": 6,
      "metadata": {
        "id": "OcUTMYDu8Kd3"
      },
      "outputs": [],
      "source": [
        "OUTPUT_DIR = ''\n",
        "IMAGE_HEIGHT = 150\n",
        "IMAGE_WIDTH = 150\n",
        "BATCH_SIZE = 32\n",
        "N_CHANNELS = 3\n",
        "N_CLASSES = 10"
      ]
    },
    {
      "cell_type": "markdown",
      "source": [
        "### 3. Dataset split and preparation"
      ],
      "metadata": {
        "id": "YHsysR6kB06Q"
      }
    },
    {
      "cell_type": "code",
      "execution_count": 7,
      "metadata": {
        "id": "dhvkIhOg7wlk",
        "colab": {
          "base_uri": "https://localhost:8080/"
        },
        "outputId": "a76b3ab3-06c8-4d59-e2db-cb55aa09f326"
      },
      "outputs": [
        {
          "output_type": "stream",
          "name": "stdout",
          "text": [
            "Found 11358 files belonging to 2 classes.\n",
            "Found 3785 files belonging to 2 classes.\n",
            "Found 3789 files belonging to 2 classes.\n"
          ]
        }
      ],
      "source": [
        "from tensorflow.keras.utils import image_dataset_from_directory\n",
        "dir=\"dataset-splitted\"\n",
        "train_dataset = image_dataset_from_directory(\n",
        "    directory= dir+\"/train\",\n",
        "    image_size=(IMAGE_WIDTH, IMAGE_HEIGHT),\n",
        "    batch_size=BATCH_SIZE,\n",
        "     color_mode='rgb')\n",
        "validation_dataset = image_dataset_from_directory(\n",
        "    directory= dir+ \"/val\",\n",
        "    image_size=(IMAGE_WIDTH, IMAGE_HEIGHT),\n",
        "     color_mode='rgb',\n",
        "    batch_size=BATCH_SIZE)\n",
        "test_dataset = image_dataset_from_directory(\n",
        "    directory=  dir+\"/test\",\n",
        "    image_size=(IMAGE_WIDTH, IMAGE_HEIGHT),\n",
        "     color_mode='rgb',\n",
        "    batch_size=BATCH_SIZE)"
      ]
    },
    {
      "cell_type": "code",
      "execution_count": 8,
      "metadata": {
        "id": "sFtwkiTtIeXA"
      },
      "outputs": [],
      "source": [
        "# Prepare datasets for modelling\n",
        "def prepare(ds, augment=False):\n",
        "    # Define transformation\n",
        "    rescale = tf.keras.Sequential([tf.keras.layers.experimental.preprocessing.Rescaling(1./255)])\n",
        "    flip_and_rotate = tf.keras.Sequential([\n",
        "        tf.keras.layers.experimental.preprocessing.RandomFlip(\"horizontal_and_vertical\"),\n",
        "        tf.keras.layers.experimental.preprocessing.RandomRotation(0.2)\n",
        "    ])\n",
        "\n",
        "    # Apply rescale to the datasets\n",
        "    ds = ds.map(lambda x, y: (rescale(x, training=True), y))\n",
        "    if augment: ds = ds.map(lambda x, y: (flip_and_rotate(x, training=True), y))\n",
        "    return ds\n",
        "\n",
        "train_dataset = prepare(train_dataset, augment=False)\n",
        "valid_dataset = prepare(validation_dataset, augment=False)\n",
        "test_dataset = prepare(test_dataset, augment=False)"
      ]
    },
    {
      "cell_type": "markdown",
      "source": [
        "### 4. Network creation and training"
      ],
      "metadata": {
        "id": "gXLim5ahB-18"
      }
    },
    {
      "cell_type": "code",
      "execution_count": 10,
      "metadata": {
        "id": "WVlnpeAGIeXB",
        "colab": {
          "base_uri": "https://localhost:8080/"
        },
        "outputId": "1f35a8a9-cf68-4209-a338-b136c4873289"
      },
      "outputs": [
        {
          "output_type": "stream",
          "name": "stdout",
          "text": [
            "Epoch 1/100\n",
            "355/355 [==============================] - 42s 112ms/step - loss: 0.6377 - accuracy: 0.7949 - val_loss: 0.5616 - val_accuracy: 0.8024\n",
            "Epoch 2/100\n",
            "355/355 [==============================] - 37s 104ms/step - loss: 0.4872 - accuracy: 0.8192 - val_loss: 0.4376 - val_accuracy: 0.8248\n",
            "Epoch 3/100\n",
            "355/355 [==============================] - 38s 106ms/step - loss: 0.4018 - accuracy: 0.8339 - val_loss: 0.3826 - val_accuracy: 0.8354\n",
            "Epoch 4/100\n",
            "355/355 [==============================] - 39s 108ms/step - loss: 0.3638 - accuracy: 0.8431 - val_loss: 0.3549 - val_accuracy: 0.8468\n",
            "Epoch 5/100\n",
            "355/355 [==============================] - 39s 110ms/step - loss: 0.3435 - accuracy: 0.8485 - val_loss: 0.3399 - val_accuracy: 0.8478\n",
            "Epoch 6/100\n",
            "355/355 [==============================] - 40s 110ms/step - loss: 0.3304 - accuracy: 0.8550 - val_loss: 0.3289 - val_accuracy: 0.8552\n",
            "Epoch 7/100\n",
            "355/355 [==============================] - 40s 111ms/step - loss: 0.3217 - accuracy: 0.8589 - val_loss: 0.3222 - val_accuracy: 0.8550\n",
            "Epoch 8/100\n",
            "355/355 [==============================] - 40s 112ms/step - loss: 0.3145 - accuracy: 0.8614 - val_loss: 0.3154 - val_accuracy: 0.8587\n",
            "Epoch 9/100\n",
            "355/355 [==============================] - 40s 112ms/step - loss: 0.3085 - accuracy: 0.8643 - val_loss: 0.3106 - val_accuracy: 0.8621\n",
            "Epoch 10/100\n",
            "355/355 [==============================] - 40s 112ms/step - loss: 0.3033 - accuracy: 0.8678 - val_loss: 0.3059 - val_accuracy: 0.8655\n",
            "Epoch 11/100\n",
            "355/355 [==============================] - 40s 112ms/step - loss: 0.2985 - accuracy: 0.8691 - val_loss: 0.3007 - val_accuracy: 0.8687\n",
            "Epoch 12/100\n",
            "355/355 [==============================] - 40s 112ms/step - loss: 0.2938 - accuracy: 0.8723 - val_loss: 0.2977 - val_accuracy: 0.8713\n",
            "Epoch 13/100\n",
            "355/355 [==============================] - 40s 112ms/step - loss: 0.2896 - accuracy: 0.8744 - val_loss: 0.2921 - val_accuracy: 0.8729\n",
            "Epoch 14/100\n",
            "355/355 [==============================] - 40s 112ms/step - loss: 0.2856 - accuracy: 0.8769 - val_loss: 0.2886 - val_accuracy: 0.8758\n",
            "Epoch 15/100\n",
            "355/355 [==============================] - 40s 112ms/step - loss: 0.2816 - accuracy: 0.8790 - val_loss: 0.2861 - val_accuracy: 0.8761\n",
            "Epoch 16/100\n",
            "355/355 [==============================] - 40s 112ms/step - loss: 0.2782 - accuracy: 0.8806 - val_loss: 0.2827 - val_accuracy: 0.8787\n",
            "Epoch 17/100\n",
            "355/355 [==============================] - 40s 113ms/step - loss: 0.2747 - accuracy: 0.8839 - val_loss: 0.2787 - val_accuracy: 0.8801\n",
            "Epoch 18/100\n",
            "355/355 [==============================] - 40s 112ms/step - loss: 0.2710 - accuracy: 0.8854 - val_loss: 0.2762 - val_accuracy: 0.8816\n",
            "Epoch 19/100\n",
            "355/355 [==============================] - 40s 112ms/step - loss: 0.2678 - accuracy: 0.8879 - val_loss: 0.2742 - val_accuracy: 0.8840\n",
            "Epoch 20/100\n",
            "355/355 [==============================] - 40s 112ms/step - loss: 0.2643 - accuracy: 0.8871 - val_loss: 0.2689 - val_accuracy: 0.8848\n",
            "Epoch 21/100\n",
            "355/355 [==============================] - 40s 112ms/step - loss: 0.2616 - accuracy: 0.8884 - val_loss: 0.2653 - val_accuracy: 0.8856\n",
            "Epoch 22/100\n",
            "355/355 [==============================] - 40s 112ms/step - loss: 0.2584 - accuracy: 0.8900 - val_loss: 0.2623 - val_accuracy: 0.8875\n",
            "Epoch 23/100\n",
            "355/355 [==============================] - 40s 112ms/step - loss: 0.2554 - accuracy: 0.8921 - val_loss: 0.2599 - val_accuracy: 0.8885\n",
            "Epoch 24/100\n",
            "355/355 [==============================] - 40s 112ms/step - loss: 0.2528 - accuracy: 0.8930 - val_loss: 0.2564 - val_accuracy: 0.8906\n",
            "Epoch 25/100\n",
            "355/355 [==============================] - 41s 113ms/step - loss: 0.2497 - accuracy: 0.8946 - val_loss: 0.2539 - val_accuracy: 0.8927\n",
            "Epoch 26/100\n",
            "355/355 [==============================] - 40s 112ms/step - loss: 0.2474 - accuracy: 0.8980 - val_loss: 0.2527 - val_accuracy: 0.8943\n",
            "Epoch 27/100\n",
            "355/355 [==============================] - 40s 112ms/step - loss: 0.2447 - accuracy: 0.8997 - val_loss: 0.2501 - val_accuracy: 0.8956\n",
            "Epoch 28/100\n",
            "355/355 [==============================] - 40s 112ms/step - loss: 0.2419 - accuracy: 0.8995 - val_loss: 0.2477 - val_accuracy: 0.8970\n",
            "Epoch 29/100\n",
            "355/355 [==============================] - 40s 112ms/step - loss: 0.2398 - accuracy: 0.9011 - val_loss: 0.2457 - val_accuracy: 0.8980\n",
            "Epoch 30/100\n",
            "355/355 [==============================] - 41s 113ms/step - loss: 0.2372 - accuracy: 0.9024 - val_loss: 0.2446 - val_accuracy: 0.8980\n",
            "Epoch 31/100\n",
            "355/355 [==============================] - 40s 112ms/step - loss: 0.2353 - accuracy: 0.9034 - val_loss: 0.2400 - val_accuracy: 0.9007\n",
            "Epoch 32/100\n",
            "355/355 [==============================] - 40s 112ms/step - loss: 0.2331 - accuracy: 0.9043 - val_loss: 0.2386 - val_accuracy: 0.9020\n",
            "Epoch 33/100\n",
            "355/355 [==============================] - 40s 112ms/step - loss: 0.2309 - accuracy: 0.9043 - val_loss: 0.2359 - val_accuracy: 0.9038\n",
            "Epoch 34/100\n",
            "355/355 [==============================] - 40s 112ms/step - loss: 0.2286 - accuracy: 0.9058 - val_loss: 0.2351 - val_accuracy: 0.9041\n",
            "Epoch 35/100\n",
            "355/355 [==============================] - 40s 112ms/step - loss: 0.2272 - accuracy: 0.9061 - val_loss: 0.2318 - val_accuracy: 0.9052\n",
            "Epoch 36/100\n",
            "355/355 [==============================] - 40s 111ms/step - loss: 0.2247 - accuracy: 0.9069 - val_loss: 0.2308 - val_accuracy: 0.9054\n",
            "Epoch 37/100\n",
            "355/355 [==============================] - 40s 112ms/step - loss: 0.2232 - accuracy: 0.9073 - val_loss: 0.2294 - val_accuracy: 0.9062\n",
            "Epoch 38/100\n",
            "355/355 [==============================] - 41s 112ms/step - loss: 0.2211 - accuracy: 0.9085 - val_loss: 0.2272 - val_accuracy: 0.9065\n",
            "Epoch 39/100\n",
            "355/355 [==============================] - 40s 112ms/step - loss: 0.2193 - accuracy: 0.9095 - val_loss: 0.2276 - val_accuracy: 0.9073\n",
            "Epoch 40/100\n",
            "355/355 [==============================] - 40s 112ms/step - loss: 0.2175 - accuracy: 0.9098 - val_loss: 0.2245 - val_accuracy: 0.9089\n",
            "Epoch 41/100\n",
            "355/355 [==============================] - 40s 112ms/step - loss: 0.2160 - accuracy: 0.9113 - val_loss: 0.2214 - val_accuracy: 0.9102\n",
            "Epoch 42/100\n",
            "355/355 [==============================] - 40s 112ms/step - loss: 0.2146 - accuracy: 0.9109 - val_loss: 0.2195 - val_accuracy: 0.9112\n",
            "Epoch 43/100\n",
            "355/355 [==============================] - 40s 112ms/step - loss: 0.2127 - accuracy: 0.9136 - val_loss: 0.2180 - val_accuracy: 0.9118\n",
            "Epoch 44/100\n",
            "355/355 [==============================] - 40s 112ms/step - loss: 0.2113 - accuracy: 0.9135 - val_loss: 0.2162 - val_accuracy: 0.9120\n",
            "Epoch 45/100\n",
            "355/355 [==============================] - 40s 112ms/step - loss: 0.2098 - accuracy: 0.9149 - val_loss: 0.2147 - val_accuracy: 0.9125\n",
            "Epoch 46/100\n",
            "355/355 [==============================] - 40s 112ms/step - loss: 0.2082 - accuracy: 0.9144 - val_loss: 0.2149 - val_accuracy: 0.9123\n",
            "Epoch 47/100\n",
            "355/355 [==============================] - 40s 112ms/step - loss: 0.2068 - accuracy: 0.9164 - val_loss: 0.2129 - val_accuracy: 0.9141\n",
            "Epoch 48/100\n",
            "355/355 [==============================] - 41s 115ms/step - loss: 0.2055 - accuracy: 0.9168 - val_loss: 0.2105 - val_accuracy: 0.9152\n",
            "Epoch 49/100\n",
            "355/355 [==============================] - 40s 112ms/step - loss: 0.2039 - accuracy: 0.9172 - val_loss: 0.2093 - val_accuracy: 0.9165\n",
            "Epoch 50/100\n",
            "355/355 [==============================] - 40s 112ms/step - loss: 0.2029 - accuracy: 0.9169 - val_loss: 0.2087 - val_accuracy: 0.9157\n",
            "Epoch 51/100\n",
            "355/355 [==============================] - 40s 113ms/step - loss: 0.2013 - accuracy: 0.9180 - val_loss: 0.2073 - val_accuracy: 0.9170\n",
            "Epoch 52/100\n",
            "355/355 [==============================] - 40s 113ms/step - loss: 0.1995 - accuracy: 0.9192 - val_loss: 0.2058 - val_accuracy: 0.9170\n",
            "Epoch 53/100\n",
            "355/355 [==============================] - 40s 112ms/step - loss: 0.1983 - accuracy: 0.9215 - val_loss: 0.2060 - val_accuracy: 0.9178\n",
            "Epoch 54/100\n",
            "355/355 [==============================] - 40s 112ms/step - loss: 0.1975 - accuracy: 0.9201 - val_loss: 0.2038 - val_accuracy: 0.9184\n",
            "Epoch 55/100\n",
            "355/355 [==============================] - 40s 112ms/step - loss: 0.1959 - accuracy: 0.9207 - val_loss: 0.2030 - val_accuracy: 0.9197\n",
            "Epoch 56/100\n",
            "355/355 [==============================] - 40s 112ms/step - loss: 0.1947 - accuracy: 0.9216 - val_loss: 0.2010 - val_accuracy: 0.9194\n",
            "Epoch 57/100\n",
            "355/355 [==============================] - 40s 112ms/step - loss: 0.1935 - accuracy: 0.9212 - val_loss: 0.1997 - val_accuracy: 0.9197\n",
            "Epoch 58/100\n",
            "355/355 [==============================] - 40s 112ms/step - loss: 0.1926 - accuracy: 0.9215 - val_loss: 0.1999 - val_accuracy: 0.9210\n",
            "Epoch 59/100\n",
            "355/355 [==============================] - 40s 112ms/step - loss: 0.1912 - accuracy: 0.9231 - val_loss: 0.1988 - val_accuracy: 0.9215\n",
            "Epoch 60/100\n",
            "355/355 [==============================] - 40s 112ms/step - loss: 0.1901 - accuracy: 0.9239 - val_loss: 0.1974 - val_accuracy: 0.9218\n",
            "Epoch 61/100\n",
            "355/355 [==============================] - 40s 112ms/step - loss: 0.1890 - accuracy: 0.9244 - val_loss: 0.1955 - val_accuracy: 0.9213\n",
            "Epoch 62/100\n",
            "355/355 [==============================] - 40s 112ms/step - loss: 0.1879 - accuracy: 0.9239 - val_loss: 0.1951 - val_accuracy: 0.9221\n",
            "Epoch 63/100\n",
            "355/355 [==============================] - 40s 113ms/step - loss: 0.1871 - accuracy: 0.9259 - val_loss: 0.1939 - val_accuracy: 0.9234\n",
            "Epoch 64/100\n",
            "355/355 [==============================] - 40s 112ms/step - loss: 0.1859 - accuracy: 0.9253 - val_loss: 0.1930 - val_accuracy: 0.9239\n",
            "Epoch 65/100\n",
            "355/355 [==============================] - 40s 112ms/step - loss: 0.1850 - accuracy: 0.9258 - val_loss: 0.1925 - val_accuracy: 0.9247\n",
            "Epoch 66/100\n",
            "355/355 [==============================] - 40s 112ms/step - loss: 0.1842 - accuracy: 0.9259 - val_loss: 0.1909 - val_accuracy: 0.9242\n",
            "Epoch 67/100\n",
            "355/355 [==============================] - 40s 113ms/step - loss: 0.1829 - accuracy: 0.9267 - val_loss: 0.1899 - val_accuracy: 0.9247\n",
            "Epoch 68/100\n",
            "355/355 [==============================] - 40s 112ms/step - loss: 0.1818 - accuracy: 0.9267 - val_loss: 0.1897 - val_accuracy: 0.9258\n",
            "Epoch 69/100\n",
            "355/355 [==============================] - 40s 111ms/step - loss: 0.1812 - accuracy: 0.9263 - val_loss: 0.1887 - val_accuracy: 0.9258\n",
            "Epoch 70/100\n",
            "355/355 [==============================] - 40s 112ms/step - loss: 0.1801 - accuracy: 0.9290 - val_loss: 0.1884 - val_accuracy: 0.9252\n",
            "Epoch 71/100\n",
            "355/355 [==============================] - 40s 112ms/step - loss: 0.1791 - accuracy: 0.9286 - val_loss: 0.1875 - val_accuracy: 0.9252\n",
            "Epoch 72/100\n",
            "355/355 [==============================] - 40s 112ms/step - loss: 0.1778 - accuracy: 0.9282 - val_loss: 0.1860 - val_accuracy: 0.9268\n",
            "Epoch 73/100\n",
            "355/355 [==============================] - 40s 112ms/step - loss: 0.1771 - accuracy: 0.9284 - val_loss: 0.1862 - val_accuracy: 0.9255\n",
            "Epoch 74/100\n",
            "355/355 [==============================] - 40s 112ms/step - loss: 0.1763 - accuracy: 0.9292 - val_loss: 0.1850 - val_accuracy: 0.9266\n",
            "Epoch 75/100\n",
            "355/355 [==============================] - 40s 112ms/step - loss: 0.1752 - accuracy: 0.9294 - val_loss: 0.1838 - val_accuracy: 0.9266\n",
            "Epoch 76/100\n",
            "355/355 [==============================] - 40s 112ms/step - loss: 0.1744 - accuracy: 0.9300 - val_loss: 0.1829 - val_accuracy: 0.9268\n",
            "Epoch 77/100\n",
            "355/355 [==============================] - 40s 112ms/step - loss: 0.1737 - accuracy: 0.9301 - val_loss: 0.1821 - val_accuracy: 0.9271\n",
            "Epoch 78/100\n",
            "355/355 [==============================] - 40s 112ms/step - loss: 0.1725 - accuracy: 0.9301 - val_loss: 0.1819 - val_accuracy: 0.9271\n",
            "Epoch 79/100\n",
            "355/355 [==============================] - 40s 112ms/step - loss: 0.1715 - accuracy: 0.9307 - val_loss: 0.1817 - val_accuracy: 0.9263\n",
            "Epoch 80/100\n",
            "355/355 [==============================] - 40s 112ms/step - loss: 0.1709 - accuracy: 0.9311 - val_loss: 0.1799 - val_accuracy: 0.9279\n",
            "Epoch 81/100\n",
            "355/355 [==============================] - 40s 112ms/step - loss: 0.1697 - accuracy: 0.9319 - val_loss: 0.1810 - val_accuracy: 0.9263\n",
            "Epoch 82/100\n",
            "355/355 [==============================] - 40s 112ms/step - loss: 0.1695 - accuracy: 0.9326 - val_loss: 0.1785 - val_accuracy: 0.9287\n",
            "Epoch 83/100\n",
            "355/355 [==============================] - 40s 112ms/step - loss: 0.1684 - accuracy: 0.9332 - val_loss: 0.1801 - val_accuracy: 0.9279\n",
            "Epoch 84/100\n",
            "355/355 [==============================] - 40s 112ms/step - loss: 0.1676 - accuracy: 0.9326 - val_loss: 0.1772 - val_accuracy: 0.9287\n",
            "Epoch 85/100\n",
            "355/355 [==============================] - 40s 112ms/step - loss: 0.1668 - accuracy: 0.9333 - val_loss: 0.1799 - val_accuracy: 0.9292\n",
            "Epoch 86/100\n",
            "355/355 [==============================] - 41s 113ms/step - loss: 0.1661 - accuracy: 0.9338 - val_loss: 0.1760 - val_accuracy: 0.9287\n",
            "Epoch 87/100\n",
            "355/355 [==============================] - 40s 112ms/step - loss: 0.1654 - accuracy: 0.9342 - val_loss: 0.1754 - val_accuracy: 0.9284\n",
            "Epoch 88/100\n",
            "355/355 [==============================] - 40s 112ms/step - loss: 0.1645 - accuracy: 0.9348 - val_loss: 0.1760 - val_accuracy: 0.9295\n",
            "Epoch 89/100\n",
            "355/355 [==============================] - 40s 112ms/step - loss: 0.1640 - accuracy: 0.9337 - val_loss: 0.1745 - val_accuracy: 0.9281\n",
            "Epoch 90/100\n",
            "355/355 [==============================] - 40s 112ms/step - loss: 0.1629 - accuracy: 0.9335 - val_loss: 0.1746 - val_accuracy: 0.9292\n",
            "Epoch 91/100\n",
            "355/355 [==============================] - 40s 112ms/step - loss: 0.1619 - accuracy: 0.9357 - val_loss: 0.1736 - val_accuracy: 0.9289\n",
            "Epoch 92/100\n",
            "355/355 [==============================] - 40s 112ms/step - loss: 0.1613 - accuracy: 0.9363 - val_loss: 0.1748 - val_accuracy: 0.9310\n",
            "Epoch 93/100\n",
            "355/355 [==============================] - 40s 112ms/step - loss: 0.1613 - accuracy: 0.9362 - val_loss: 0.1723 - val_accuracy: 0.9292\n",
            "Epoch 94/100\n",
            "355/355 [==============================] - 40s 112ms/step - loss: 0.1601 - accuracy: 0.9368 - val_loss: 0.1718 - val_accuracy: 0.9295\n",
            "Epoch 95/100\n",
            "355/355 [==============================] - 40s 112ms/step - loss: 0.1596 - accuracy: 0.9370 - val_loss: 0.1710 - val_accuracy: 0.9297\n",
            "Epoch 96/100\n",
            "355/355 [==============================] - 40s 111ms/step - loss: 0.1585 - accuracy: 0.9366 - val_loss: 0.1724 - val_accuracy: 0.9316\n",
            "Epoch 97/100\n",
            "355/355 [==============================] - 40s 112ms/step - loss: 0.1585 - accuracy: 0.9364 - val_loss: 0.1706 - val_accuracy: 0.9300\n",
            "Epoch 98/100\n",
            "355/355 [==============================] - 41s 114ms/step - loss: 0.1576 - accuracy: 0.9375 - val_loss: 0.1696 - val_accuracy: 0.9303\n",
            "Epoch 99/100\n",
            "355/355 [==============================] - 40s 112ms/step - loss: 0.1571 - accuracy: 0.9393 - val_loss: 0.1695 - val_accuracy: 0.9308\n",
            "Epoch 100/100\n",
            "355/355 [==============================] - 40s 112ms/step - loss: 0.1567 - accuracy: 0.9382 - val_loss: 0.1688 - val_accuracy: 0.9310\n"
          ]
        }
      ],
      "source": [
        "from tensorflow.keras.applications import VGG19\n",
        "from keras.datasets import mnist\n",
        "from keras.models import Sequential\n",
        "from keras.layers import Dense, Dropout, Conv2D, MaxPool2D, Flatten\n",
        "from keras.utils import np_utils\n",
        "\n",
        "conv_base= VGG19(weights=None,include_top=False,input_shape=(IMAGE_WIDTH,IMAGE_HEIGHT,3))\n",
        "conv_base.trainable=False\n",
        "\n",
        "model = Sequential()\n",
        "model.add(conv_base)\n",
        "model.add(layers.Flatten())\n",
        "model.add(layers.Dense(256,activation='relu'))\n",
        "model.add(layers.Dense(2,activation='sigmoid'))\n",
        "\n",
        "model.compile(\n",
        "    loss='sparse_categorical_crossentropy',\n",
        "    optimizer=optimizers.Adam(learning_rate=2e-4),\n",
        "    metrics=['accuracy']\n",
        ")\n",
        "\n",
        "# Implement early stopping\n",
        "early_stopping = tf.keras.callbacks.EarlyStopping(\n",
        "    monitor='val_accuracy',\n",
        "    patience=5,\n",
        "    restore_best_weights=True\n",
        ")\n",
        "\n",
        "history = model.fit(train_dataset, epochs=100, batch_size=32,validation_data=valid_dataset,callbacks=[early_stopping])"
      ]
    },
    {
      "cell_type": "markdown",
      "source": [
        "### 5. Loss and accuracy curves"
      ],
      "metadata": {
        "id": "uefuwkITCFP-"
      }
    },
    {
      "cell_type": "code",
      "execution_count": 11,
      "metadata": {
        "id": "_yuEVhbFIeXB",
        "colab": {
          "base_uri": "https://localhost:8080/",
          "height": 564
        },
        "outputId": "206d3ab6-2d70-477b-82f2-a8fc0e26c60f"
      },
      "outputs": [
        {
          "output_type": "display_data",
          "data": {
            "text/plain": [
              "<Figure size 800x600 with 1 Axes>"
            ],
            "image/png": "[encoded data removed]"
          },
          "metadata": {}
        }
      ],
      "source": [
        "# Plot the loss curves for training and validation.\n",
        "history_dict = history.history\n",
        "loss_values = history_dict['loss']\n",
        "val_loss_values = history_dict['val_loss']\n",
        "epochs = range(1, len(loss_values)+1)\n",
        "\n",
        "fig = plt.figure(figsize=(8,6))\n",
        "plt.plot(epochs, loss_values, 'orange', label='Training loss')\n",
        "plt.plot(epochs, val_loss_values, 'b', label='Validation loss')\n",
        "plt.title('Training and validation loss')\n",
        "plt.xlabel('Epochs')\n",
        "plt.ylabel('Loss')\n",
        "plt.legend()\n",
        "plt.show()\n",
        "fig.savefig('loss.png', dpi=fig.dpi)"
      ]
    },
    {
      "cell_type": "code",
      "execution_count": 12,
      "metadata": {
        "id": "TH7KTjK0IeXC",
        "colab": {
          "base_uri": "https://localhost:8080/",
          "height": 564
        },
        "outputId": "a7aee5c9-5381-4655-b621-537c171ad283"
      },
      "outputs": [
        {
          "output_type": "display_data",
          "data": {
            "text/plain": [
              "<Figure size 800x600 with 1 Axes>"
            ],
            "image/png": "[encoded data removed]"
          },
          "metadata": {}
        }
      ],
      "source": [
        "# Plot the accuracy curves for training and validation.\n",
        "acc_values = history_dict['accuracy']\n",
        "val_acc_values = history_dict['val_accuracy']\n",
        "\n",
        "epochs = range(1, len(acc_values)+1)\n",
        "\n",
        "fig = plt.figure(figsize=(8,6))\n",
        "plt.plot(epochs, acc_values, 'orange', label='Training accuracy')\n",
        "plt.plot(epochs, val_acc_values, 'b', label='Validation accuracy')\n",
        "plt.title('Training and validation accuracy')\n",
        "plt.xlabel('Epochs')\n",
        "plt.ylabel('Accuracy')\n",
        "plt.ylim(0, 1)\n",
        "plt.legend()\n",
        "plt.show()\n",
        "fig.savefig('accuracy.png', dpi=fig.dpi)"
      ]
    },
    {
      "cell_type": "markdown",
      "source": [
        "### 6. Model test and evaluation"
      ],
      "metadata": {
        "id": "axyYXTzJCNsw"
      }
    },
    {
      "cell_type": "code",
      "execution_count": 13,
      "metadata": {
        "id": "2rGc_v5GIeXC",
        "colab": {
          "base_uri": "https://localhost:8080/"
        },
        "outputId": "f8c8958f-626a-4e79-e449-1b52e7ac4322"
      },
      "outputs": [
        {
          "output_type": "stream",
          "name": "stdout",
          "text": [
            "EVALUATION Final loss: 0.161778, final accuracy: 0.934811\n",
            "PRECISION: 0.932105\n",
            "RECALL: 0.947265\n",
            "F1 SCORE: 0.939624\n",
            "ROC AUC: 0.933860\n",
            "Average precision score: 0.911190\n"
          ]
        }
      ],
      "source": [
        "# Compute the final loss and accuracy\n",
        "result = model.evaluate(test_dataset, verbose=0)\n",
        "print(\"EVALUATION Final loss: {0:.6f}, final accuracy: {1:.6f}\".format(result[0], result[1]))\n",
        "\n",
        "import tensorflow as tf\n",
        "from sklearn.metrics import accuracy_score, precision_score, recall_score, f1_score, roc_auc_score, average_precision_score\n",
        "\n",
        "\n",
        "# Predict probabilities using the model\n",
        "predictions = []\n",
        "true_labels = []\n",
        "\n",
        "for images, labels in test_dataset:\n",
        "    predictions_batch = model.predict(images, verbose = 0)\n",
        "    predictions.extend(predictions_batch)\n",
        "    true_labels.extend(labels.numpy())\n",
        "\n",
        "predictions = np.array(predictions)\n",
        "true_labels = np.array(true_labels)\n",
        "\n",
        "# Compute the final loss using the true labels and predicted probabilities\n",
        "final_loss = np.mean(\n",
        "    tf.keras.losses.sparse_categorical_crossentropy(true_labels, predictions).numpy()\n",
        ")\n",
        "\n",
        "# Calculate accuracy by comparing predicted labels with true labels\n",
        "predicted_labels = np.argmax(predictions, axis=1)\n",
        "accuracy = np.mean(predicted_labels == true_labels)\n",
        "\n",
        "final_precision_score = precision_score(true_labels,predicted_labels)\n",
        "print(\"PRECISION: {0:.6f}\".format(final_precision_score))\n",
        "final_recall = recall_score(true_labels,predicted_labels)\n",
        "print(\"RECALL: {0:.6f}\".format(final_recall))\n",
        "final_f1_score = f1_score(true_labels,predicted_labels)\n",
        "print(\"F1 SCORE: {0:.6f}\".format(final_f1_score))\n",
        "final_roc_auc_score = roc_auc_score(true_labels,predicted_labels)\n",
        "print(\"ROC AUC: {0:.6f}\".format(final_roc_auc_score))\n",
        "final_avg_prec_score = average_precision_score(true_labels,predicted_labels)\n",
        "print(\"Average precision score: {0:.6f}\".format(final_avg_prec_score))"
      ]
    },
    {
      "cell_type": "code",
      "execution_count": 14,
      "metadata": {
        "colab": {
          "base_uri": "https://localhost:8080/",
          "height": 73
        },
        "id": "9ymSo0Q3PrKN",
        "outputId": "17b0c5a3-0b18-4a1a-bfa6-3646f6f045d6"
      },
      "outputs": [
        {
          "output_type": "stream",
          "name": "stderr",
          "text": [
            "WARNING:absl:Found untraced functions such as _jit_compiled_convolution_op, _jit_compiled_convolution_op, _jit_compiled_convolution_op, _jit_compiled_convolution_op, _jit_compiled_convolution_op while saving (showing 5 of 16). These functions will not be directly callable after loading.\n"
          ]
        },
        {
          "output_type": "execute_result",
          "data": {
            "text/plain": [
              "'/content/model150Imagenet.zip'"
            ],
            "application/vnd.google.colaboratory.intrinsic+json": {
              "type": "string"
            }
          },
          "metadata": {},
          "execution_count": 14
        }
      ],
      "source": [
        "# save maodel\n",
        "model.save(\"model150Imagenet/\")\n",
        "import shutil\n",
        "shutil.make_archive('model150Imagenet','zip',\n",
        "                    '',\n",
        "                    'model150Imagenet')"
      ]
    },
    {
      "cell_type": "markdown",
      "source": [
        "### Accuracy by class"
      ],
      "metadata": {
        "id": "ENPQCwjJsKwx"
      }
    },
    {
      "cell_type": "code",
      "execution_count": 15,
      "metadata": {
        "colab": {
          "base_uri": "https://localhost:8080/"
        },
        "id": "JUCn9VdUCJyF",
        "outputId": "4a5803f7-f747-459f-e99b-56b73edf790b"
      },
      "outputs": [
        {
          "output_type": "stream",
          "name": "stdout",
          "text": [
            "Positive Label Accuracy: 0.9472646623952686\n",
            "Negative Label Accuracy: 0.9204545454545454\n",
            "Overall Accuracy: 0.9348112958564265\n"
          ]
        }
      ],
      "source": [
        "positive_labels = true_labels == 1\n",
        "negative_labels = true_labels == 0\n",
        "\n",
        "positive_predictions = predictions[positive_labels]\n",
        "positive_true_labels = true_labels[positive_labels]\n",
        "positive_predicted_labels = np.argmax(positive_predictions, axis=1)\n",
        "positive_accuracy = np.mean(positive_predicted_labels == positive_true_labels)\n",
        "\n",
        "\n",
        "negative_predictions = predictions[negative_labels]\n",
        "negative_true_labels = true_labels[negative_labels]\n",
        "negative_predicted_labels = np.argmax(negative_predictions, axis=1)\n",
        "negative_accuracy = np.mean(negative_predicted_labels == negative_true_labels)\n",
        "\n",
        "overall_accuracy = np.mean(predicted_labels == true_labels)\n",
        "\n",
        "print(\"Positive Label Accuracy:\", positive_accuracy)\n",
        "print(\"Negative Label Accuracy:\", negative_accuracy)\n",
        "print(\"Overall Accuracy:\", overall_accuracy)"
      ]
    }
  ],
  "metadata": {
    "accelerator": "GPU",
    "colab": {
      "machine_shape": "hm",
      "provenance": [],
      "gpuType": "T4"
    },
    "kernelspec": {
      "display_name": "Python 3",
      "name": "python3"
    },
    "language_info": {
      "codemirror_mode": {
        "name": "ipython",
        "version": 3
      },
      "file_extension": ".py",
      "mimetype": "text/x-python",
      "name": "python",
      "nbconvert_exporter": "python",
      "pygments_lexer": "ipython3",
      "version": "3.7.16"
    }
  },
  "nbformat": 4,
  "nbformat_minor": 0
}